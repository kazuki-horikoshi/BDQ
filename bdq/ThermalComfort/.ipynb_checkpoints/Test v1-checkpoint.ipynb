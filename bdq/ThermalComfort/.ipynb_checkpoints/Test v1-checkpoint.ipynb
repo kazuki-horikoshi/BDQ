{
 "cells": [
  {
   "cell_type": "code",
   "execution_count": 105,
   "metadata": {},
   "outputs": [],
   "source": [
    "import numpy as np\n",
    "import pandas as pd"
   ]
  },
  {
   "cell_type": "code",
   "execution_count": 106,
   "metadata": {},
   "outputs": [],
   "source": [
    "# helper fcn to add labels for comfort profile\n",
    "degreeSign= u'\\N{DEGREE SIGN}'\n",
    "def addLabel(data):\n",
    "    #data.columns =[x+degreeSign+'C' for x in ['25','25.5','26','26.5','27','27.5']]\n",
    "    data.index = ['Level '+i for i in ['0','1','2','3','4','5','6']]\n",
    "    return data\n",
    "\n",
    "# helper fcn to read comfort profiles\n",
    "def readProfile(path):\n",
    "    profile = pd.read_csv(path)\n",
    "    return addLabel(profile)"
   ]
  },
  {
   "cell_type": "code",
   "execution_count": 107,
   "metadata": {},
   "outputs": [
    {
     "data": {
      "text/html": [
       "<div>\n",
       "<style scoped>\n",
       "    .dataframe tbody tr th:only-of-type {\n",
       "        vertical-align: middle;\n",
       "    }\n",
       "\n",
       "    .dataframe tbody tr th {\n",
       "        vertical-align: top;\n",
       "    }\n",
       "\n",
       "    .dataframe thead th {\n",
       "        text-align: right;\n",
       "    }\n",
       "</style>\n",
       "<table border=\"1\" class=\"dataframe\">\n",
       "  <thead>\n",
       "    <tr style=\"text-align: right;\">\n",
       "      <th></th>\n",
       "      <th>25</th>\n",
       "      <th>25.5</th>\n",
       "      <th>26</th>\n",
       "      <th>26.5</th>\n",
       "      <th>27</th>\n",
       "      <th>27.5</th>\n",
       "    </tr>\n",
       "  </thead>\n",
       "  <tbody>\n",
       "    <tr>\n",
       "      <th>Level 0</th>\n",
       "      <td>0</td>\n",
       "      <td>-1</td>\n",
       "      <td>-1</td>\n",
       "      <td>-2</td>\n",
       "      <td>-3</td>\n",
       "      <td>-3</td>\n",
       "    </tr>\n",
       "    <tr>\n",
       "      <th>Level 1</th>\n",
       "      <td>0</td>\n",
       "      <td>0</td>\n",
       "      <td>-1</td>\n",
       "      <td>-1</td>\n",
       "      <td>-2</td>\n",
       "      <td>-3</td>\n",
       "    </tr>\n",
       "    <tr>\n",
       "      <th>Level 2</th>\n",
       "      <td>-1</td>\n",
       "      <td>0</td>\n",
       "      <td>0</td>\n",
       "      <td>0</td>\n",
       "      <td>0</td>\n",
       "      <td>-1</td>\n",
       "    </tr>\n",
       "    <tr>\n",
       "      <th>Level 3</th>\n",
       "      <td>-2</td>\n",
       "      <td>-1</td>\n",
       "      <td>-1</td>\n",
       "      <td>0</td>\n",
       "      <td>0</td>\n",
       "      <td>0</td>\n",
       "    </tr>\n",
       "    <tr>\n",
       "      <th>Level 4</th>\n",
       "      <td>-3</td>\n",
       "      <td>-2</td>\n",
       "      <td>-1</td>\n",
       "      <td>-1</td>\n",
       "      <td>0</td>\n",
       "      <td>0</td>\n",
       "    </tr>\n",
       "    <tr>\n",
       "      <th>Level 5</th>\n",
       "      <td>-3</td>\n",
       "      <td>-2</td>\n",
       "      <td>-2</td>\n",
       "      <td>-1</td>\n",
       "      <td>0</td>\n",
       "      <td>0</td>\n",
       "    </tr>\n",
       "    <tr>\n",
       "      <th>Level 6</th>\n",
       "      <td>-3</td>\n",
       "      <td>-3</td>\n",
       "      <td>-2</td>\n",
       "      <td>-1</td>\n",
       "      <td>-1</td>\n",
       "      <td>0</td>\n",
       "    </tr>\n",
       "  </tbody>\n",
       "</table>\n",
       "</div>"
      ],
      "text/plain": [
       "         25  25.5  26  26.5  27  27.5\n",
       "Level 0   0    -1  -1    -2  -3    -3\n",
       "Level 1   0     0  -1    -1  -2    -3\n",
       "Level 2  -1     0   0     0   0    -1\n",
       "Level 3  -2    -1  -1     0   0     0\n",
       "Level 4  -3    -2  -1    -1   0     0\n",
       "Level 5  -3    -2  -2    -1   0     0\n",
       "Level 6  -3    -3  -2    -1  -1     0"
      ]
     },
     "execution_count": 107,
     "metadata": {},
     "output_type": "execute_result"
    }
   ],
   "source": [
    "# read initial comfort profile\n",
    "pathOriginal = \"Original Data/ASHRAE55.csv\"\n",
    "dataOriginal = readProfile(pathOriginal)\n",
    "dataOriginal"
   ]
  },
  {
   "cell_type": "code",
   "execution_count": 108,
   "metadata": {},
   "outputs": [],
   "source": [
    "# read ground truth profile\n",
    "# Occupant 1, cool\n",
    "P1 = readProfile('Ground Truth/P1.csv')\n",
    "# Occupant 2, warm\n",
    "P2 = readProfile('Ground Truth/P2.csv')\n",
    "# Occupant 3, neutral\n",
    "P3 = readProfile('Ground Truth/P3.csv')\n",
    "# Occupant 4, no preference\n",
    "P4 = readProfile('Ground Truth/P4.csv')"
   ]
  },
  {
   "cell_type": "code",
   "execution_count": 109,
   "metadata": {},
   "outputs": [],
   "source": [
    "# helper fcn to mimic feedback\n",
    "# for deterministic vote\n",
    "def deterministicVote(profile, state):\n",
    "    fan, temp = state\n",
    "    feedback = profile.loc[fan, temp]\n",
    "    return feedback\n",
    "\n",
    "def stochasticVote(profile, state):\n",
    "    return None"
   ]
  },
  {
   "cell_type": "code",
   "execution_count": 110,
   "metadata": {},
   "outputs": [],
   "source": [
    "# helper fcn to update the personalized profile\n",
    "def updateProfile(profile, feedback, state):\n",
    "    fan, temp = state\n",
    "    # for deterministic vote, simply override the existing value\n",
    "    profile.loc[fan, temp] = feedback\n",
    "    return profile\n"
   ]
  },
  {
   "cell_type": "code",
   "execution_count": 112,
   "metadata": {},
   "outputs": [
    {
     "ename": "SyntaxError",
     "evalue": "invalid syntax (<ipython-input-112-bdc059c75ee0>, line 21)",
     "output_type": "error",
     "traceback": [
      "\u001b[0;36m  File \u001b[0;32m\"<ipython-input-112-bdc059c75ee0>\"\u001b[0;36m, line \u001b[0;32m21\u001b[0m\n\u001b[0;31m    (fanValue_N = fanValue) if (fanValue == 0) else (fanValue_N = fanValue-1)\u001b[0m\n\u001b[0m                ^\u001b[0m\n\u001b[0;31mSyntaxError\u001b[0m\u001b[0;31m:\u001b[0m invalid syntax\n"
     ]
    }
   ],
   "source": [
    "# helper fcn to select the state\n",
    "def calcPenalty(P1,P2,P3,P4, fan, temp):\n",
    "    penalty = P1.iloc[fan, temp]+P2.iloc[fan, temp]+P3.iloc[fan, temp]+P4.iloc[fan, temp]\n",
    "    return penalty\n",
    "\n",
    "# NW    N    NE\n",
    "# W   Curr    E\n",
    "# SW    S    SE\n",
    "# select the min penalty from the above 8 adjacent states\n",
    "def selectState(P1,P2,P3,P4, currentState):\n",
    "    fan, temp = currentState\n",
    "    # get current state index position\n",
    "    fanValue = P1.index.get_loc(fan)\n",
    "    tempValue = float(temp)\n",
    "    # initialize the penalty\n",
    "    penalty = calcPenalty(P1,P2,P3,P4, fanValue, tempValue)\n",
    "    currentMinPenalty = penalty\n",
    "    currentMinPosition = (fanValue, tempValue)\n",
    "    \n",
    "    # solve boundary issues\n",
    "    fanValue_N = fanValue if fanValue == 0 else fanValue_N = fanValue-1\n",
    "    fanValue_S = fanValue if fanValue == 6 else fanValue_S = fanValue+1\n",
    "    tempValue_W = tempValue if tempValue == 25 else tempValue_W = tempValue-1\n",
    "    tempValue_E = tempValue if tempValue == 27.5 else tempValue_E =tempValue+1\n",
    "    \n",
    "    # calc penalty values and find the min penalty value and position    \n",
    "    penalty_NE = calcPenalty(P1,P2,P3,P4, fanValue_N, tempValue_E) # NE\n",
    "    if penalty_NE > currentMinPenalty: \n",
    "        currentMinPenalty = penalty_NE\n",
    "        currentMinPosition = (fanValue_N, tempValue_E)\n",
    "    penalty_E = calcPenalty(P1,P2,P3,P4, fanValue, tempValue_E) # E\n",
    "    if penalty_E > currentMinPenalty: \n",
    "        currentMinPenalty = penalty_E\n",
    "        currentMinPosition = (fanValue, tempValue_E)\n",
    "    penalty_SE = calcPenalty(P1,P2,P3,P4, fanValue_S, tempValue_E) # SE\n",
    "    if penalty_SE > currentMinPenalty: \n",
    "        currentMinPenalty = penalty_SE\n",
    "        currentMinPosition = (fanValue_S, tempValue_E)\n",
    "    penalty_N = calcPenalty(P1,P2,P3,P4, fanValue_N, tempValue) # N\n",
    "    if penalty_N > currentMinPenalty: \n",
    "        currentMinPenalty = penalty_N\n",
    "        currentMinPosition = (fanValue_N, tempValue)\n",
    "    penalty_S = calcPenalty(P1,P2,P3,P4, fanValue_S, tempValue) # S\n",
    "    if penalty_S > currentMinPenalty: \n",
    "        currentMinPenalty = penalty_S\n",
    "        currentMinPosition = (fanValue_S, tempValue)\n",
    "    penalty_NW = calcPenalty(P1,P2,P3,P4, fanValue_N, tempValue_W) # NW\n",
    "    if penalty_NW > currentMinPenalty: \n",
    "        currentMinPenalty = penalty_NW\n",
    "        currentMinPosition = (fanValue_N, tempValue_W)\n",
    "    penalty_W = calcPenalty(P1,P2,P3,P4, fanValue, tempValue_W) # W\n",
    "    if penalty_W > currentMinPenalty: \n",
    "        currentMinPenalty = penalty_W\n",
    "        currentMinPosition = (fanValue, tempValue_W)\n",
    "    penalty_SW = calcPenalty(P1,P2,P3,P4, fanValue_S, tempValue_W) # SW\n",
    "    if penalty_SW > currentMinPenalty: \n",
    "        currentMinPenalty = penalty_SW\n",
    "        currentMinPosition = (fanValue_S, tempValue_W)\n",
    "    \n",
    "    optimalFan, optimalTemp = currentMinPosition\n",
    "    optimalFan, optimalTemp = P1.index[optimalFan], P1.column[optimalTemp]\n",
    "    print(\"optimal state:\", (optimalFan, optimalTemp))\n",
    "    return currentMinPenalty, currentMinPosition"
   ]
  },
  {
   "cell_type": "code",
   "execution_count": 61,
   "metadata": {},
   "outputs": [
    {
     "data": {
      "text/plain": [
       "1"
      ]
     },
     "execution_count": 61,
     "metadata": {},
     "output_type": "execute_result"
    }
   ],
   "source": [
    "# online training\n",
    "days = 3 # number of days for training\n",
    "frequency = 4 # number of feedbacks asked per hour\n",
    "hours = 8 # number of working hours per day\n",
    "steps = days*frequency*hours\n",
    "print(\"total number of feedbacks received is:\", steps)\n",
    "\n",
    "# initialize comfort profiles and state\n",
    "p1 = p2 = p3 = p4 = dataOriginal\n",
    "state = ('Level 3', '26.5')\n",
    "\n",
    "for step in range(steps):\n",
    "    print(step)\n",
    "    # select the optimal state to min penalty\n",
    "    _, state = selectState(P1,P2,P3,P4, state)\n",
    "    \n",
    "    # update each profile\n",
    "    # occupant 1\n",
    "    feedback = deterministicVote(P1, state)\n",
    "    currentProfile = updateProfile(p1, feedback, state)\n",
    "    # occupant 2\n",
    "    feedback = deterministicVote(P2, state)\n",
    "    currentProfile = updateProfile(p2, feedback, state)\n",
    "    # occupant 3\n",
    "    feedback = deterministicVote(P3, state)\n",
    "    currentProfile = updateProfile(p3, feedback, state)\n",
    "    # occupant 4\n",
    "    feedback = deterministicVote(P4, state)\n",
    "    currentProfile = updateProfile(p4, feedback, state)\n",
    "\n"
   ]
  },
  {
   "cell_type": "code",
   "execution_count": 97,
   "metadata": {},
   "outputs": [
    {
     "name": "stdout",
     "output_type": "stream",
     "text": [
      "         25  25.5  26  26.5  27  27.5\n",
      "Level 0  -1    -1  -1    -2  -3    -3\n",
      "Level 1   0    -1  -1    -1  -2    -3\n",
      "Level 2   0     0   0    -1  -2    -2\n",
      "Level 3  -1     0   0    -3  -1    -2\n",
      "Level 4  -2    -1   0    -1  -1    -2\n",
      "Level 5  -3    -2  -1     0   0    -1\n",
      "Level 6  -3    -3  -2    -1   0    -1\n",
      "\n",
      "\n",
      "         25  25.5  26  26.5  27  27.5\n",
      "Level 0  -1     0   0     0  -1    -2\n",
      "Level 1  -1    -1  -1     0   0    -1\n",
      "Level 2  -2    -1  -1     0   0     0\n",
      "Level 3  -3    -2  -1    -1   0     0\n",
      "Level 4  -3    -2  -2    -1  -1    -1\n",
      "Level 5  -3    -3  -2    -2  -2    -1\n",
      "Level 6  -3    -3  -3    -2  -2    -2\n",
      "\n",
      "\n",
      "         25  25.5  26  26.5  27  27.5\n",
      "Level 0  -1     0  -1    -1  -2    -3\n",
      "Level 1  -1     0   0    -1  -1    -2\n",
      "Level 2  -1    -1   0     0   0    -1\n",
      "Level 3  -2    -1  -1     0   0     0\n",
      "Level 4  -2    -1  -1    -1   0     0\n",
      "Level 5  -3    -2  -2    -1  -1    -1\n",
      "Level 6  -3    -3  -3    -2  -2    -1\n",
      "\n",
      "\n",
      "         25  25.5  26  26.5  27  27.5\n",
      "Level 0   0     0   0     0  -1    -1\n",
      "Level 1   0     0   0     0   0    -1\n",
      "Level 2   0     0   0     0   0     0\n",
      "Level 3  -1    -1   0     0   0     0\n",
      "Level 4  -2    -1  -1     0   0     0\n",
      "Level 5  -2    -2  -1    -1  -1     0\n",
      "Level 6  -3    -3  -2    -2  -1    -1\n"
     ]
    }
   ],
   "source": [
    "# preview training results\n",
    "print(p1)\n",
    "print('\\n')\n",
    "print(p2)\n",
    "print('\\n')\n",
    "print(p3)\n",
    "print('\\n')\n",
    "print(p4)\n",
    "\n",
    "\n",
    "\n",
    "\n",
    "\n",
    "\n",
    "\n",
    "\n",
    "\n",
    "\n",
    "\n",
    "\n",
    "\n",
    "\n",
    "\n"
   ]
  },
  {
   "cell_type": "code",
   "execution_count": 101,
   "metadata": {},
   "outputs": [],
   "source": [
    "for i in [(p1,P1), (p2,P2), (p3,P3), (p4,P4)]:\n",
    "    currentProfile, trueProfile = i\n",
    "    currentProfile = None"
   ]
  },
  {
   "cell_type": "code",
   "execution_count": 104,
   "metadata": {},
   "outputs": [
    {
     "name": "stdout",
     "output_type": "stream",
     "text": [
      "None\n"
     ]
    }
   ],
   "source": [
    "print(p1)"
   ]
  },
  {
   "cell_type": "code",
   "execution_count": 95,
   "metadata": {},
   "outputs": [
    {
     "data": {
      "text/plain": [
       "'25.5'"
      ]
     },
     "execution_count": 95,
     "metadata": {},
     "output_type": "execute_result"
    }
   ],
   "source": [
    "p1.columns[1]"
   ]
  },
  {
   "cell_type": "code",
   "execution_count": 96,
   "metadata": {},
   "outputs": [
    {
     "name": "stdout",
     "output_type": "stream",
     "text": [
      "optimal state: (1, 2)\n"
     ]
    }
   ],
   "source": [
    "print(\"optimal state:\", (1, 2))"
   ]
  },
  {
   "cell_type": "code",
   "execution_count": 131,
   "metadata": {},
   "outputs": [],
   "source": [
    "fanValue = 1\n",
    "\n",
    "fanValue_N = fanValue if (fanValue == 0) else 5+1\n",
    "\n"
   ]
  },
  {
   "cell_type": "code",
   "execution_count": 132,
   "metadata": {},
   "outputs": [
    {
     "data": {
      "text/plain": [
       "6"
      ]
     },
     "execution_count": 132,
     "metadata": {},
     "output_type": "execute_result"
    }
   ],
   "source": [
    "fanValue_N"
   ]
  },
  {
   "cell_type": "code",
   "execution_count": null,
   "metadata": {},
   "outputs": [],
   "source": []
  }
 ],
 "metadata": {
  "kernelspec": {
   "display_name": "Python 3",
   "language": "python",
   "name": "python3"
  },
  "language_info": {
   "codemirror_mode": {
    "name": "ipython",
    "version": 3
   },
   "file_extension": ".py",
   "mimetype": "text/x-python",
   "name": "python",
   "nbconvert_exporter": "python",
   "pygments_lexer": "ipython3",
   "version": "3.7.3"
  }
 },
 "nbformat": 4,
 "nbformat_minor": 2
}
