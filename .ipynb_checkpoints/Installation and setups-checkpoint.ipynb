{
 "cells": [
  {
   "cell_type": "markdown",
   "id": "5c3267b7",
   "metadata": {},
   "source": [
    "# Overview of co-simulation setup\n",
    "To run the code, a co-simulation environment has to be setup correctly. It mainly has 3 parts:\n",
    "- A building model compiled into standard functional mock-up unit (FMU) format\n",
    "- A OpenAI gym interface wrapper for the FMU\n",
    "- A reinforcement learning (RL) code to interact with the virtual environment\n",
    "\n",
    "We created a high-fidelity model of the building with Modelica Buildings Library and then compiled it into a FMU. The lighting, occupant, and plug load schedule were created directly with 1-week measured data. The FMU, schedules and weather file are saved under the same folder (../agent/modelica).\n",
    "\n",
    "A customized OpenAI gym interface was developed based on Python library - PyFMI (https://github.com/modelon-community/PyFMI). After registering the gym environment, users can interact with the Modelica-based virtual environment using standard OpenAI gym command (refer to: https://gym.openai.com/docs/), such as `env.step`, `env.reset`, etc.\n",
    "\n",
    "The branching dueling q-network (BDQ) was used as the RL agent to solve the multi-dimensional control task. The original BDQ code is open source (https://github.com/atavakol/action-branching-agents). We mainly modified the `procedure_continuous_tasks.py`, `train_continuous.py` and `enjoy_continuous.py` files and make them work in our virtual environment. "
   ]
  },
  {
   "cell_type": "markdown",
   "id": "ed85cb36",
   "metadata": {},
   "source": [
    "# Installation\n",
    "The installation can be troublesome and prone to error. Please feel free to email me if you encounter any problem. The Python version must be 3.6, and we will install PyFMI, tensorflow, OpenAI, and special version of Numpy. I only tested this workflow in Ubuntu but it should also work for other platforms. However, the FMU is platform-specific, meaning that you will need to compile the Modelica model in the Windows FMU format in order to run it in the Windows system.\n",
    "\n",
    "I include the `requirements.txt` file that listed all the packages I installed on my computer just for your reference."
   ]
  },
  {
   "cell_type": "code",
   "execution_count": null,
   "id": "412868b7",
   "metadata": {},
   "outputs": [],
   "source": [
    "conda create -n BDQ36 python=3.6 # use Anaconda to create a new Python environment called BDQ36"
   ]
  },
  {
   "cell_type": "code",
   "execution_count": null,
   "id": "b5995bb4",
   "metadata": {},
   "outputs": [],
   "source": [
    "conda activate BDQ36 # go to the BDQ36 Python environment"
   ]
  },
  {
   "cell_type": "code",
   "execution_count": null,
   "id": "708e3b9b",
   "metadata": {},
   "outputs": [],
   "source": [
    "conda install -c conda-forge pyfmi # install PyFMI via conda forge"
   ]
  },
  {
   "cell_type": "code",
   "execution_count": null,
   "id": "1dc600dd",
   "metadata": {},
   "outputs": [],
   "source": [
    "pip install tensorflow==1.6.0 # install tensorflow 1.6. The BDQ source code only supports tensorflow 1.x version."
   ]
  },
  {
   "cell_type": "code",
   "execution_count": null,
   "id": "2a7cc742",
   "metadata": {},
   "outputs": [],
   "source": [
    "pip install pandas==1.1.5 # install pandas"
   ]
  },
  {
   "cell_type": "code",
   "execution_count": null,
   "id": "021d6539",
   "metadata": {},
   "outputs": [],
   "source": [
    "pip install scipy==1.5.3 # install scipy"
   ]
  },
  {
   "cell_type": "code",
   "execution_count": null,
   "id": "cc882b54",
   "metadata": {},
   "outputs": [],
   "source": [
    "pip install dill==0.3.3 # install dill"
   ]
  },
  {
   "cell_type": "markdown",
   "id": "5e73022c",
   "metadata": {},
   "source": [
    "Make sure that `Numpy` is version 1.19.5"
   ]
  },
  {
   "cell_type": "code",
   "execution_count": null,
   "id": "bf2f6f1a",
   "metadata": {},
   "outputs": [],
   "source": [
    "pip install gym==0.9.1 # install older version of gym that supports Python 3.6"
   ]
  },
  {
   "cell_type": "markdown",
   "id": "9daa0191",
   "metadata": {},
   "source": [
    "### Virtual environment registry\n",
    "Register our custom environment in OpenAI's gym (refer to: https://stackoverflow.com/questions/52727233/how-can-i-register-a-custom-environment-in-openais-gym). The corresponding code is saved at `../Installation Files`\n",
    "\n",
    "- Step 1. Go to the Anaconda environment folder (`.../anaconda3/envs/BDQ36/lib/python3.6/site-packages/gym/envs`) and make a new folder named `modelica`\n",
    "- Step 2. Copy `emulator.py` and `__init__.py` to the `modelica` folder\n",
    "- Step 3. Add the following code to the end of the registration file (`.../anaconda3/envs/BDQ36/lib/python3.6/site-packages/gym/envs/_init_.py`). Note that this is NOT the `__init__.py` we just copied.\n",
    "\n",
    "`register(\n",
    "    id='emulator-v0',\n",
    "    entry_point='gym.envs.modelica:emulator',\n",
    "    kwargs={'emulator_path':'../agents/bdq/modelica/Beehub_energy.fmu',\n",
    "            'occ_path':'../agents/bdq/modelica/occ.mos',\n",
    "            'plug_path':'../agents/bdq/modelica/plug.mos',\n",
    "            'lgt_path':'../agents/bdq/modelica/lights.mos',\n",
    "            'weather_path':'../agents/bdq/modelica/SGP_SINGAPORE-CHANGI-AP_486980_18_20.mos',\n",
    "            'year': 2018,\n",
    "            'month': 1,\n",
    "            'day': 1,\n",
    "            'env_name':'emulator-v0',\n",
    "            }\n",
    ")`\n",
    "\n",
    "**YOU NEED TO CHANGE ALL THE PATH TO THE CORRESPONDING FILES!**\n",
    "\n",
    "The weather file contains 3 years Singapore's AMY weather data and starts on 2018-1-1, which is an input for the registeration file."
   ]
  },
  {
   "cell_type": "markdown",
   "id": "06b19ac8",
   "metadata": {},
   "source": [
    "# Baseline environment"
   ]
  },
  {
   "cell_type": "markdown",
   "id": "75176cee",
   "metadata": {},
   "source": [
    "Now, you should be able to "
   ]
  },
  {
   "cell_type": "code",
   "execution_count": null,
   "id": "f8e09eac",
   "metadata": {},
   "outputs": [],
   "source": [
    "cd \"../bdq\" # go to agent file directory\n",
    "python offline_training.py # run the offline traning"
   ]
  },
  {
   "cell_type": "code",
   "execution_count": null,
   "id": "9c02bb3e",
   "metadata": {},
   "outputs": [],
   "source": []
  },
  {
   "cell_type": "code",
   "execution_count": null,
   "id": "61163ce6",
   "metadata": {},
   "outputs": [],
   "source": []
  },
  {
   "cell_type": "code",
   "execution_count": null,
   "id": "cebb9841",
   "metadata": {},
   "outputs": [],
   "source": []
  }
 ],
 "metadata": {
  "kernelspec": {
   "display_name": "Python 3 (ipykernel)",
   "language": "python",
   "name": "python3"
  },
  "language_info": {
   "codemirror_mode": {
    "name": "ipython",
    "version": 3
   },
   "file_extension": ".py",
   "mimetype": "text/x-python",
   "name": "python",
   "nbconvert_exporter": "python",
   "pygments_lexer": "ipython3",
   "version": "3.6.13"
  }
 },
 "nbformat": 4,
 "nbformat_minor": 5
}
